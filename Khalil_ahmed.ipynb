{
 "cells": [
  {
   "cell_type": "markdown",
   "id": "87c5c589",
   "metadata": {},
   "source": [
    "\n",
    "<table style=\"border-collapse: collapse; width: 50%; font-family: Arial;\">\n",
    "  <tr style=\"background-color: #4CAF50; color: white;\">\n",
    "    <th style=\"border: 1px solid #ddd; padding: 8px;\">Subject</th>\n",
    "    <th style=\"border: 1px solid #ddd; padding: 8px;\">Group</th>\n",
    "  </tr>\n",
    "  <tr>\n",
    "    <td style=\"border: 1px solid #ddd; padding: 8px;\">Subject 1</td>\n",
    "    <td style=\"border: 1px solid #ddd; padding: 8px;\">Healthy Control</td>\n",
    "  </tr>\n",
    "  <tr style=\"background-color: #f2f2f2;\">\n",
    "    <td style=\"border: 1px solid #ddd; padding: 8px;\">Subject 2</td>\n",
    "    <td style=\"border: 1px solid #ddd; padding: 8px;\">Patient</td>\n",
    "  </tr>\n",
    "  <tr>\n",
    "    <td style=\"border: 1px solid #ddd; padding: 8px;\">Subject 3</td>\n",
    "    <td style=\"border: 1px solid #ddd; padding: 8px;\">Healthy Control</td>\n",
    "  </tr>\n",
    "  <tr style=\"background-color: #f2f2f2;\">\n",
    "    <td style=\"border: 1px solid #ddd; padding: 8px;\">Subject 4</td>\n",
    "    <td style=\"border: 1px solid #ddd; padding: 8px;\">Patient</td>\n",
    "  </tr>\n",
    "</table>\n"
   ]
  },
  {
   "cell_type": "code",
   "execution_count": 7,
   "id": "d61b4031",
   "metadata": {},
   "outputs": [
    {
     "name": "stdout",
     "output_type": "stream",
     "text": [
      "Epoch 10/100 completed\n",
      "Epoch 20/100 completed\n",
      "Epoch 30/100 completed\n",
      "Epoch 40/100 completed\n",
      "Epoch 50/100 completed\n",
      "Epoch 60/100 completed\n",
      "Epoch 70/100 completed\n",
      "Epoch 80/100 completed\n",
      "Epoch 90/100 completed\n",
      "Epoch 100/100 completed\n",
      "\n",
      "BMU to Label Mapping:\n",
      "BMU at (np.int64(2), np.int64(0)): Healthy\n",
      "BMU at (np.int64(2), np.int64(1)): Healthy\n",
      "BMU at (np.int64(1), np.int64(0)): Healthy\n",
      "BMU at (np.int64(0), np.int64(2)): Patient\n",
      "BMU at (np.int64(0), np.int64(1)): Patient\n",
      "BMU at (np.int64(1), np.int64(2)): Patient\n",
      "\n",
      "Model saved\n"
     ]
    }
   ],
   "source": [
    "import numpy as np\n",
    "from sklearn.preprocessing import MinMaxScaler\n",
    "import pickle\n",
    "\n",
    "class SOM:\n",
    "    def __init__(self, grid_size, input_size, lr=0.5, sigma=None):\n",
    "        self.grid_size = grid_size\n",
    "        self.input_size = input_size\n",
    "        self.lr = lr\n",
    "        self.sigma = sigma if sigma else max(grid_size) / 2\n",
    "        self.weights = np.random.rand(*grid_size, input_size)\n",
    "        self.coords = np.array([[i, j] for i in range(grid_size[0]) for j in range(grid_size[1])])\n",
    "\n",
    "    def find_bmu(self, sample):\n",
    "        dist = np.linalg.norm(self.weights - sample, axis=2)\n",
    "        return np.unravel_index(np.argmin(dist), dist.shape)\n",
    "\n",
    "    def train(self, data, epochs=100, show_progress=True):\n",
    "        for epoch in range(epochs):\n",
    "            lr = self.lr * np.exp(-epoch / epochs)\n",
    "            sigma = self.sigma * np.exp(-epoch / epochs)\n",
    "\n",
    "            for sample in data:\n",
    "                bmu = self.find_bmu(sample)\n",
    "                dists = np.linalg.norm(self.coords - bmu, axis=1)\n",
    "                influence = np.exp(-dists**2 / (2 * sigma**2))\n",
    "\n",
    "                for idx, (x, y) in enumerate(self.coords):\n",
    "                    self.weights[x, y] += lr * influence[idx] * (sample - self.weights[x, y])\n",
    "\n",
    "            if show_progress and (epoch + 1) % 10 == 0:\n",
    "                print(f\"Epoch {epoch + 1}/{epochs} completed\")\n",
    "\n",
    "def load_data(healthy_file, patient_file):\n",
    "    healthy = np.loadtxt(healthy_file)\n",
    "    patient = np.loadtxt(patient_file)\n",
    "    labels = np.concatenate([np.zeros(len(healthy)), np.ones(len(patient))])\n",
    "    data = np.vstack([healthy, patient])\n",
    "    scaler = MinMaxScaler()\n",
    "    return scaler.fit_transform(data), labels, scaler\n",
    "\n",
    "def assign_labels_to_bmu(som, data, labels):\n",
    "    bmu_map = {}\n",
    "    for sample, label in zip(data, labels):\n",
    "        bmu = som.find_bmu(sample)\n",
    "        bmu_map.setdefault(bmu, []).append(label)\n",
    "    return {bmu: int(round(np.mean(lbls))) for bmu, lbls in bmu_map.items()}\n",
    "\n",
    "def predict_new_data(txt_file, model_path=\"trained-som.pkl\"):\n",
    "    with open(model_path, \"rb\") as f:\n",
    "        saved = pickle.load(f)\n",
    "\n",
    "    new_data = np.loadtxt(txt_file)\n",
    "    scaled = saved[\"scaler\"].transform(new_data)\n",
    "    preds = [saved[\"bmu_label_map\"].get(saved[\"som\"].find_bmu(sample), -1) for sample in scaled]\n",
    "\n",
    "    for i, pred in enumerate(preds):\n",
    "        label = {0: \"Healthy\", 1: \"Patient\"}.get(pred, \"Unknown\")\n",
    "        print(f\"Sample {i + 1}: Predicted = {label}\")\n",
    "\n",
    "    return preds\n",
    "\n",
    "if __name__ == \"__main__\":\n",
    "    GRID_SIZE = (3, 3)\n",
    "    EPOCHS = 100\n",
    "    LEARNING_RATE = 0.5\n",
    "\n",
    "    data, labels, scaler = load_data(\"control.txt\", \"patient.txt\")\n",
    "    som = SOM(GRID_SIZE, data.shape[1], LEARNING_RATE)\n",
    "    som.train(data, epochs=EPOCHS)\n",
    "\n",
    "    bmu_label_map = assign_labels_to_bmu(som, data, labels)\n",
    "\n",
    "    print(\"\\nBMU to Label Mapping:\")\n",
    "    for bmu, label in bmu_label_map.items():\n",
    "        print(f\"BMU at {bmu}: {'Patient' if label else 'Healthy'}\")\n",
    "\n",
    "    with open(\"trained-som.pkl\", \"wb\") as f:\n",
    "        pickle.dump({\"som\": som, \"scaler\": scaler, \"bmu_label_map\": bmu_label_map}, f)\n",
    "\n",
    "    print(\"\\nModel saved\")\n"
   ]
  },
  {
   "cell_type": "code",
   "execution_count": 8,
   "id": "100f7df1",
   "metadata": {},
   "outputs": [
    {
     "name": "stdout",
     "output_type": "stream",
     "text": [
      "Sample 1: Predicted = Patient\n",
      "Sample 2: Predicted = Patient\n",
      "Sample 3: Predicted = Healthy\n",
      "Sample 4: Predicted = Healthy\n"
     ]
    },
    {
     "data": {
      "text/plain": [
       "[1, 1, 0, 0]"
      ]
     },
     "execution_count": 8,
     "metadata": {},
     "output_type": "execute_result"
    }
   ],
   "source": [
    "predict_new_data(\"khalil.txt\")"
   ]
  },
  {
   "cell_type": "markdown",
   "id": "d66a39f5",
   "metadata": {},
   "source": [
    "# Comparing Key Learning Techniques in Machine Learning\n",
    "\n",
    "## 1. **Self-Organizing Map (SOM / Kohonen Network)**\n",
    "- **Type**: Unsupervised learning, great for **dimensionality reduction** and **data visualization**.\n",
    "- **How it learns**: Uses **competitive learning** to organize input data on a 2D grid, while maintaining the **topological relationships** between data points.\n",
    "- **Use case**: Ideal when you want to **visualize clusters** and **detect patterns** in high-dimensional data.\n",
    "\n",
    "---\n",
    "\n",
    "## 2. **K-Means Clustering**\n",
    "- **Type**: Classic **unsupervised clustering** algorithm.\n",
    "- **How it works**: Assigns data points to **K clusters** based on their distance to **cluster centroids**, which are updated iteratively.\n",
    "- **Topology awareness**: Unlike SOM, K-Means doesn't preserve **spatial structure** or **topology**—it's purely about **grouping by similarity**.\n",
    "\n",
    "---\n",
    "\n",
    "## 3. **K-Nearest Neighbors (KNN)**\n",
    "- **Type**: **Supervised learning** used for both **classification** and **regression**.\n",
    "- **How it works**: Given a new point, it looks at the **K closest labeled examples** and predicts the majority class (or average value).\n",
    "- **Lazy learner**: KNN doesn’t learn an internal model—it just memorizes the training data and makes decisions at prediction time.\n",
    "\n",
    "---\n",
    "\n",
    "> **Summary**:\n",
    "- **SOM** = maps structure + patterns (unsupervised + topology-aware)\n",
    "- **K-Means** = finds groups without preserving structure (unsupervised)\n",
    "- **KNN** = compares with known labels at prediction time (supervised)\n"
   ]
  },
  {
   "cell_type": "code",
   "execution_count": null,
   "id": "f3abcbd2",
   "metadata": {},
   "outputs": [],
   "source": []
  }
 ],
 "metadata": {
  "kernelspec": {
   "display_name": "ahmed_env",
   "language": "python",
   "name": "python3"
  },
  "language_info": {
   "codemirror_mode": {
    "name": "ipython",
    "version": 3
   },
   "file_extension": ".py",
   "mimetype": "text/x-python",
   "name": "python",
   "nbconvert_exporter": "python",
   "pygments_lexer": "ipython3",
   "version": "3.13.1"
  }
 },
 "nbformat": 4,
 "nbformat_minor": 5
}
